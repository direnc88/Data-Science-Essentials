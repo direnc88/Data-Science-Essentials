{
 "cells": [
  {
   "cell_type": "markdown",
   "metadata": {},
   "source": [
    "![title](Header__0001_9.png)\n",
    "___\n",
    "# Chapter 9 - Web-based Data Visualizations with Plotly\n",
    "## Segment 1 - Basic charts\n",
    "### Setting up to use Plotly within Jupyter"
   ]
  },
  {
   "cell_type": "code",
   "execution_count": null,
   "metadata": {
    "collapsed": true
   },
   "outputs": [],
   "source": [
    "# https://plot.ly/~bigdatagal     for moe examples. \n",
    "#\n",
    "#  plotly is a data vizualization library used to create dj.js web friendly visualizations. \n",
    "#\n",
    "# works with python: numpy, pandas, matplotlib, and jupyter\n",
    "# R, excel, and SQL\n",
    "# \n",
    "# we'll be using the cufflinks library which binds plotly to pandas objects within the jupyter notebook. \n",
    "#\n",
    "# To generate plotly plots from NumPy objects, you use the following Plotly attributes:\n",
    "# \n",
    "# Traces: thes are objects that describe a single variable of data in a graph, for example, a scatterplot or heatmap.\n",
    "#\n",
    "# Layouts: you use these attributes to set layout elements for your plot, for example, the title, x-axis, or \n",
    "# annotations. \n",
    "#\n",
    "#\n",
    "#"
   ]
  },
  {
   "cell_type": "code",
   "execution_count": 1,
   "metadata": {},
   "outputs": [
    {
     "name": "stdout",
     "output_type": "stream",
     "text": [
      "Requirement already satisfied (use --upgrade to upgrade): Plotly in c:\\program files\\anaconda2\\lib\\site-packages\n",
      "Requirement already satisfied (use --upgrade to upgrade): requests in c:\\program files\\anaconda2\\lib\\site-packages (from Plotly)\n",
      "Requirement already satisfied (use --upgrade to upgrade): pytz in c:\\program files\\anaconda2\\lib\\site-packages (from Plotly)\n",
      "Requirement already satisfied (use --upgrade to upgrade): six in c:\\program files\\anaconda2\\lib\\site-packages (from Plotly)\n"
     ]
    },
    {
     "name": "stderr",
     "output_type": "stream",
     "text": [
      "You are using pip version 8.1.2, however version 9.0.1 is available.\n",
      "You should consider upgrading via the 'python -m pip install --upgrade pip' command.\n"
     ]
    }
   ],
   "source": [
    "! pip install Plotly"
   ]
  },
  {
   "cell_type": "code",
   "execution_count": 2,
   "metadata": {},
   "outputs": [
    {
     "name": "stdout",
     "output_type": "stream",
     "text": [
      "Requirement already satisfied (use --upgrade to upgrade): cufflinks in c:\\program files\\anaconda2\\lib\\site-packages\n",
      "Requirement already satisfied (use --upgrade to upgrade): plotly>=1.7.6 in c:\\program files\\anaconda2\\lib\\site-packages (from cufflinks)\n",
      "Requirement already satisfied (use --upgrade to upgrade): colorlover>=0.2 in c:\\program files\\anaconda2\\lib\\site-packages (from cufflinks)\n",
      "Requirement already satisfied (use --upgrade to upgrade): pandas in c:\\program files\\anaconda2\\lib\\site-packages (from cufflinks)\n",
      "Requirement already satisfied (use --upgrade to upgrade): requests in c:\\program files\\anaconda2\\lib\\site-packages (from plotly>=1.7.6->cufflinks)\n",
      "Requirement already satisfied (use --upgrade to upgrade): pytz in c:\\program files\\anaconda2\\lib\\site-packages (from plotly>=1.7.6->cufflinks)\n",
      "Requirement already satisfied (use --upgrade to upgrade): six in c:\\program files\\anaconda2\\lib\\site-packages (from plotly>=1.7.6->cufflinks)\n",
      "Requirement already satisfied (use --upgrade to upgrade): python-dateutil in c:\\program files\\anaconda2\\lib\\site-packages (from pandas->cufflinks)\n",
      "Requirement already satisfied (use --upgrade to upgrade): numpy>=1.7.0 in c:\\program files\\anaconda2\\lib\\site-packages (from pandas->cufflinks)\n"
     ]
    },
    {
     "name": "stderr",
     "output_type": "stream",
     "text": [
      "You are using pip version 8.1.2, however version 9.0.1 is available.\n",
      "You should consider upgrading via the 'python -m pip install --upgrade pip' command.\n"
     ]
    }
   ],
   "source": [
    "! pip install cufflinks"
   ]
  },
  {
   "cell_type": "code",
   "execution_count": 3,
   "metadata": {},
   "outputs": [],
   "source": [
    "import numpy as np\n",
    "import pandas as pd\n",
    "\n",
    "import cufflinks as cf\n",
    "\n",
    "import plotly.plotly as py\n",
    "import plotly.tools as tls\n",
    "import plotly.graph_objs as go"
   ]
  },
  {
   "cell_type": "code",
   "execution_count": 4,
   "metadata": {
    "collapsed": true
   },
   "outputs": [],
   "source": [
    "# username and api key from the plotly website. This is necessary for use. \n",
    "# I'll need to change these. Available in the settings/api key in plotly account. \n",
    "tls.set_credentials_file(username= '', api_key= '')"
   ]
  },
  {
   "cell_type": "markdown",
   "metadata": {},
   "source": [
    "### Creating line charts"
   ]
  },
  {
   "cell_type": "markdown",
   "metadata": {},
   "source": [
    "#### A very basic line chart"
   ]
  },
  {
   "cell_type": "code",
   "execution_count": 5,
   "metadata": {},
   "outputs": [
    {
     "data": {
      "text/html": [
       "<iframe id=\"igraph\" scrolling=\"no\" style=\"border:none;\" seamless=\"seamless\" src=\"https://plot.ly/~bigdatagal/78.embed\" height=\"525px\" width=\"100%\"></iframe>"
      ],
      "text/plain": [
       "<plotly.tools.PlotlyDisplay object>"
      ]
     },
     "execution_count": 5,
     "metadata": {},
     "output_type": "execute_result"
    }
   ],
   "source": [
    "#making a series of numbers between zero and 36. start at 0 go to 36 and make sure there are 36 numbers. \n",
    "a = np.linspace(start=0, stop=36, num=36)\n",
    "\n",
    "#setting seed so the results are the same. \n",
    "np.random.seed(25)\n",
    "b = np.random.uniform(low=0.0, high=1.0, size=36)\n",
    "\n",
    "#creating a line chart, but to do this we'll use the scatter function. \n",
    "trace = go.Scatter(x=a, y=b)\n",
    "\n",
    "# creating trace variable as a list object. \n",
    "data = [trace]\n",
    "\n",
    "#plotting the function, passing in data and the creating the filename. \n",
    "py.iplot(data, filename='basic-line-chart')"
   ]
  },
  {
   "cell_type": "markdown",
   "metadata": {},
   "source": [
    "#### A line chart with more than one variable plotted"
   ]
  },
  {
   "cell_type": "code",
   "execution_count": 6,
   "metadata": {},
   "outputs": [
    {
     "name": "stdout",
     "output_type": "stream",
     "text": [
      "{'yaxis': {'title': 'y-axis'}, 'xaxis': {'title': 'x-axis'}, 'title': 'Double Line Chart'}\n"
     ]
    }
   ],
   "source": [
    "# creating 3 different lists of numbers. \n",
    "x = [1,2,3,4,5,6,7,8,9]\n",
    "y = [1,2,3,4,0,4,3,2,1]\n",
    "z = [10,9,8,7,6,5,4,3,2,1]\n",
    "\n",
    "#we'll need 2 trace objects since we'll have two lines. width is line width. name is name of line. \n",
    "trace0 = go.Scatter(x=x, y=y, name='List Object', line = dict(width=5))\n",
    "trace1 = go.Scatter(x=x, y=z, name='List Object 2', line = dict(width=10,))\n",
    "\n",
    "#creating data object with traces in as part of a list. \n",
    "data = [trace0, trace1]\n",
    "\n",
    "#adding in the graph attributes. \n",
    "layout = dict(title='Double Line Chart', xaxis= dict(title='x-axis'), yaxis= dict(title='y-axis'))\n",
    "print layout"
   ]
  },
  {
   "cell_type": "code",
   "execution_count": 7,
   "metadata": {},
   "outputs": [
    {
     "name": "stdout",
     "output_type": "stream",
     "text": [
      "{'layout': {'yaxis': {'title': 'y-axis'}, 'xaxis': {'title': 'x-axis'}, 'title': 'Double Line Chart'}, 'data': [{'y': [1, 2, 3, 4, 0, 4, 3, 2, 1], 'x': [1, 2, 3, 4, 5, 6, 7, 8, 9], 'line': {'width': 5}, 'type': 'scatter', 'name': 'List Object'}, {'y': [10, 9, 8, 7, 6, 5, 4, 3, 2, 1], 'x': [1, 2, 3, 4, 5, 6, 7, 8, 9], 'line': {'width': 10}, 'type': 'scatter', 'name': 'List Object 2'}]}\n"
     ]
    }
   ],
   "source": [
    "# to generate a plot from this we'll need to combine the layout objects into a dictionary. \n",
    "fig = dict(data=data, layout=layout)\n",
    "print fig"
   ]
  },
  {
   "cell_type": "code",
   "execution_count": 8,
   "metadata": {},
   "outputs": [
    {
     "data": {
      "text/html": [
       "<iframe id=\"igraph\" scrolling=\"no\" style=\"border:none;\" seamless=\"seamless\" src=\"https://plot.ly/~bigdatagal/80.embed\" height=\"525px\" width=\"100%\"></iframe>"
      ],
      "text/plain": [
       "<plotly.tools.PlotlyDisplay object>"
      ]
     },
     "execution_count": 8,
     "metadata": {},
     "output_type": "execute_result"
    }
   ],
   "source": [
    "#might look complicated, but it's easy to plot out. \n",
    "py.iplot(fig, filename='styled-line-chart')"
   ]
  },
  {
   "cell_type": "markdown",
   "metadata": {},
   "source": [
    "#### A line chart from a pandas dataframe "
   ]
  },
  {
   "cell_type": "code",
   "execution_count": 9,
   "metadata": {},
   "outputs": [
    {
     "data": {
      "text/html": [
       "<iframe id=\"igraph\" scrolling=\"no\" style=\"border:none;\" seamless=\"seamless\" src=\"https://plot.ly/~bigdatagal/82.embed\" height=\"525px\" width=\"100%\"></iframe>"
      ],
      "text/plain": [
       "<plotly.tools.PlotlyDisplay object>"
      ]
     },
     "execution_count": 9,
     "metadata": {},
     "output_type": "execute_result"
    }
   ],
   "source": [
    "#taking in the data, using the mtcars dataset. \n",
    "address = 'C:/Users/Lillian Pierson/Desktop/Exercise Files/Ch09/09_01/mtcars.csv'\n",
    "cars = pd.read_csv(address)\n",
    "cars.columns = ['car_names','mpg','cyl','disp', 'hp', 'drat', 'wt', 'qsec', 'vs', 'am', 'gear', 'carb']\n",
    "\n",
    "#creating a subset of the data. \n",
    "df = cars[['cyl', 'wt','mpg']]\n",
    "\n",
    "#just calling the xaxis and yaxis the same as what we did in the dictionary. \n",
    "layout = dict(title = 'Chart From Pandas DataFrame', xaxis= dict(title='x-axis'), yaxis= dict(title='y-axis'))\n",
    "\n",
    "df.iplot(filename='cf-simple-line-chart', layout=layout)"
   ]
  },
  {
   "cell_type": "markdown",
   "metadata": {},
   "source": [
    "### Creating bar charts"
   ]
  },
  {
   "cell_type": "code",
   "execution_count": 17,
   "metadata": {},
   "outputs": [
    {
     "name": "stdout",
     "output_type": "stream",
     "text": [
      "[{'y': [1, 2, 3, 4, 0.5, 4, 3, 2, 1], 'x': [1, 2, 3, 4, 5, 6, 7, 8, 9, 10], 'type': 'bar'}]\n"
     ]
    }
   ],
   "source": [
    "#making an object and creating data. \n",
    "data = [go.Bar(x=[1,2,3,4,5,6,7,8,9,10],y=[1,2,3,4,0.5,4,3,2,1])]\n",
    "print data"
   ]
  },
  {
   "cell_type": "code",
   "execution_count": 18,
   "metadata": {},
   "outputs": [
    {
     "data": {
      "text/html": [
       "<iframe id=\"igraph\" scrolling=\"no\" style=\"border:none;\" seamless=\"seamless\" src=\"https://plot.ly/~bigdatagal/84.embed\" height=\"525px\" width=\"100%\"></iframe>"
      ],
      "text/plain": [
       "<plotly.tools.PlotlyDisplay object>"
      ]
     },
     "execution_count": 18,
     "metadata": {},
     "output_type": "execute_result"
    }
   ],
   "source": [
    "#creating a dictionary with the plot attributes. \n",
    "layout = dict(title='Simple Bar Chart',\n",
    "             xaxis = dict(title='x-axis'),\n",
    "             yaxis = dict(title='y-axis'))\n",
    "#plotting data and assigning filename. \n",
    "py.iplot(data, filename='basic-bar-chart', layout=layout)"
   ]
  },
  {
   "cell_type": "code",
   "execution_count": 19,
   "metadata": {},
   "outputs": [
    {
     "name": "stdout",
     "output_type": "stream",
     "text": [
      "{'color': ['rgba(169,169,169,1)', 'rgba(255,160,122,1)', 'rgba(176,224,230,1)', 'rgba(255,228,196,1)', 'rgba(189,183,107,1)', 'rgba(188,143,143,1)', 'rgba(221,160,221,1)']}\n"
     ]
    }
   ],
   "source": [
    "# creating a color theme. \n",
    "#I'll have to look up where to get rgba codes and what each of these codes represent (what element do they change?)\n",
    "color_theme = dict(color=['rgba(169,169,169,1)', 'rgba(255,160,122,1)','rgba(176,224,230,1)', 'rgba(255,228,196,1)',\n",
    "                          'rgba(189,183,107,1)', 'rgba(188,143,143,1)','rgba(221,160,221,1)'])\n",
    "print color_theme"
   ]
  },
  {
   "cell_type": "code",
   "execution_count": 21,
   "metadata": {},
   "outputs": [
    {
     "data": {
      "text/html": [
       "<iframe id=\"igraph\" scrolling=\"no\" style=\"border:none;\" seamless=\"seamless\" src=\"https://plot.ly/~bigdatagal/86.embed\" height=\"525px\" width=\"100%\"></iframe>"
      ],
      "text/plain": [
       "<plotly.tools.PlotlyDisplay object>"
      ]
     },
     "execution_count": 21,
     "metadata": {},
     "output_type": "execute_result"
    }
   ],
   "source": [
    "#assigning color theme. \n",
    "# need to use the marker parameter to set the color theme. \n",
    "trace0 = go.Bar(x=[1,2,3,4,5,6,7], y=[1,2,3,4,0.5,3,1], marker=color_theme)\n",
    "\n",
    "#putting trace object in list and calling it data. \n",
    "data = [trace0]\n",
    "#creating layout. calling the title custom colors. \n",
    "layout = go.Layout(title='Custom Colors')\n",
    "\n",
    "#figure function. \n",
    "# go.Figure just creates the final object to be plotted, and simply just creates a dictionary-like object that \n",
    "# contains both the data object and the layout object.\n",
    "fig = go.Figure(data=data, layout=layout)\n",
    "\n",
    "py.iplot(fig, filename='color-bar-chart')"
   ]
  },
  {
   "cell_type": "markdown",
   "metadata": {},
   "source": [
    "### Creating pie charts"
   ]
  },
  {
   "cell_type": "code",
   "execution_count": 22,
   "metadata": {},
   "outputs": [
    {
     "data": {
      "text/html": [
       "<iframe id=\"igraph\" scrolling=\"no\" style=\"border:none;\" seamless=\"seamless\" src=\"https://plot.ly/~bigdatagal/120.embed\" height=\"525px\" width=\"100%\"></iframe>"
      ],
      "text/plain": [
       "<plotly.tools.PlotlyDisplay object>"
      ]
     },
     "execution_count": 22,
     "metadata": {},
     "output_type": "execute_result"
    }
   ],
   "source": [
    "#creating a pie chart seems to rely on a series of nested lists inside a dictionary object. \n",
    "fig = {'data':[{'labels': ['bicycle', 'motorbike','car','van', 'stroller'],\n",
    "                 'values': [1, 2, 3, 4, 0.5],'type': 'pie'}],\n",
    "       'layout': {'title': 'Simple Pie Chart'}}\n",
    "py.iplot(fig)\n",
    "              "
   ]
  },
  {
   "cell_type": "code",
   "execution_count": null,
   "metadata": {},
   "outputs": [],
   "source": []
  }
 ],
 "metadata": {
  "anaconda-cloud": {},
  "kernelspec": {
   "display_name": "Python 3",
   "language": "python",
   "name": "python3"
  },
  "language_info": {
   "codemirror_mode": {
    "name": "ipython",
    "version": 3
   },
   "file_extension": ".py",
   "mimetype": "text/x-python",
   "name": "python",
   "nbconvert_exporter": "python",
   "pygments_lexer": "ipython3",
   "version": "3.6.1"
  }
 },
 "nbformat": 4,
 "nbformat_minor": 1
}
