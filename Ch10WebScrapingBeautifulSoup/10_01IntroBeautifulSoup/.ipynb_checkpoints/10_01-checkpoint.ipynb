{
 "cells": [
  {
   "cell_type": "markdown",
   "metadata": {},
   "source": [
    "![title](Header__0000_10.png)\n",
    "___\n",
    "# Chapter 10 - Web Scraping with Beautiful Soup\n",
    "\n",
    "## Working with objects"
   ]
  },
  {
   "cell_type": "code",
   "execution_count": null,
   "metadata": {
    "collapsed": true
   },
   "outputs": [],
   "source": [
    "# Web scraping use cases:\n",
    "# - extracting links and data from a page to create a new page. \n",
    "# - Ecommerce store automation\n",
    "# - Hydrological Analysis\n",
    "# - Emergency Resource Allocation Planning\n",
    "# - Oil and Gas Production Intel\n",
    "# \n",
    "# Beautiful Soup Object types:\n",
    "# 1. BeautfulSoup Object\n",
    "# 2. Tag Object\n",
    "# 3. NavigableString Object\n",
    "# 4. Comment Object\n",
    "#\n",
    "# \n",
    "#\n",
    "#\n",
    "# \n",
    "#\n",
    "#\n",
    "#\n",
    "#"
   ]
  },
  {
   "cell_type": "code",
   "execution_count": 1,
   "metadata": {},
   "outputs": [
    {
     "name": "stdout",
     "output_type": "stream",
     "text": [
      "Requirement already satisfied (use --upgrade to upgrade): BeautifulSoup in c:\\program files\\anaconda2\\lib\\site-packages\n"
     ]
    },
    {
     "name": "stderr",
     "output_type": "stream",
     "text": [
      "You are using pip version 8.1.2, however version 9.0.1 is available.\n",
      "You should consider upgrading via the 'python -m pip install --upgrade pip' command.\n"
     ]
    }
   ],
   "source": [
    "! pip install BeautifulSoup"
   ]
  },
  {
   "cell_type": "code",
   "execution_count": 2,
   "metadata": {},
   "outputs": [],
   "source": [
    "from bs4 import BeautifulSoup"
   ]
  },
  {
   "cell_type": "markdown",
   "metadata": {
    "collapsed": true
   },
   "source": [
    "### The BeautifulSoup object"
   ]
  },
  {
   "cell_type": "code",
   "execution_count": 3,
   "metadata": {},
   "outputs": [],
   "source": [
    "# html markup doc for setup. \n",
    "html_doc = '''\n",
    "<html><head><title>Best Books</title></head>\n",
    "<body>\n",
    "<p class='title'><b>DATA SCIENCE FOR DUMMIES</b></p>\n",
    "\n",
    "<p class='description'>Jobs in data science abound, but few people have the data science skills needed to fill these increasingly important roles in organizations. Data Science For Dummies is the pe\n",
    "<br><br>\n",
    "Edition 1 of this book:\n",
    "        <br>\n",
    " <ul>\n",
    "  <li>Provides a background in data science fundamentals before moving on to working with relational databases and unstructured data and preparing your data for analysis</li>\n",
    "  <li>Details different data visualization techniques that can be used to showcase and summarize your data</li>\n",
    "  <li>Explains both supervised and unsupervised machine learning, including regression, model validation, and clustering techniques</li>\n",
    "  <li>Includes coverage of big data processing tools like MapReduce, Hadoop, Storm, and Spark</li>   \n",
    "  </ul>\n",
    "<br><br>\n",
    "What to do next:\n",
    "<br>\n",
    "<a href='http://www.data-mania.com/blog/books-by-lillian-pierson/' class = 'preview' id='link 1'>See a preview of the book</a>,\n",
    "<a href='http://www.data-mania.com/blog/data-science-for-dummies-answers-what-is-data-science/' class = 'preview' id='link 2'>get the free pdf download,</a> and then\n",
    "<a href='http://bit.ly/Data-Science-For-Dummies' class = 'preview' id='link 3'>buy the book!</a> \n",
    "</p>\n",
    "\n",
    "<p class='description'>...</p>\n",
    "'''"
   ]
  },
  {
   "cell_type": "code",
   "execution_count": 5,
   "metadata": {},
   "outputs": [
    {
     "name": "stdout",
     "output_type": "stream",
     "text": [
      "\n",
      "<html><head><title>Best Books</title></head>\n",
      "<body>\n",
      "<p class=\"title\"><b>DATA SCIENCE FOR DUMMIES</b></p>\n",
      "<p class=\"description\">Jobs in data science abound, but few people have the data science skills needed to fill these increasingly important roles in organizations. Data Science For Dummies is the pe\n",
      "<br><br>\n",
      "Edition 1 of this book:\n",
      "        <br>\n",
      "<ul>\n",
      "<li>Provides a background in data science fundamentals before moving on to working with relational databases and unstructured data and preparing your data for analysis</li>\n",
      "<li>Details different data visualization techniques that can be used to showcase and summarize your data</li>\n",
      "<li>Explains both supervised and unsupervised machine learning, including regression, model validation, and clustering techniques</li>\n",
      "<li>Includes coverage of big data processing tools like MapReduce, Hadoop, Storm, and Spark</li>\n",
      "</ul>\n",
      "<br><br>\n",
      "What to do next:\n",
      "<br>\n",
      "<a class=\"preview\" href=\"http://www.data-mania.com/blog/books-by-lillian-pierson/\" id=\"link 1\">See a preview of the book</a>,\n",
      "<a class=\"preview\" href=\"http://www.data-mania.com/blog/data-science-for-dummies-answers-what-is-data-science/\" id=\"link 2\">get the free pdf download,</a> and then\n",
      "<a class=\"preview\" href=\"http://bit.ly/Data-Science-For-Dummies\" id=\"link 3\">buy the book!</a>\n",
      "</br></br></br></br></br></br></p>\n",
      "<p class=\"description\">...</p>\n",
      "</body></html>\n"
     ]
    }
   ],
   "source": [
    "# parser will attempt to find it's own parser, but here we will define our own. \n",
    "# our parser is the html parser. Calling the output soup. \n",
    "#transforms the markup into a parse treee. which is a set of linked objects that represent the structure of \n",
    "# the document. \n",
    "soup = BeautifulSoup(html_doc, 'html.parser')\n",
    "print(soup)"
   ]
  },
  {
   "cell_type": "code",
   "execution_count": 7,
   "metadata": {},
   "outputs": [
    {
     "name": "stdout",
     "output_type": "stream",
     "text": [
      "<html>\n",
      " <head>\n",
      "  <title>\n",
      "   Best Books\n",
      "  </title>\n",
      " </head>\n",
      " <body>\n",
      "  <p class=\"title\">\n",
      "   <b>\n",
      "    DATA SCIENCE FOR DUMMIES\n",
      "   </b>\n",
      "  </p>\n",
      "  <p class=\"description\">\n",
      "   Jobs in data science abound, but few people have the data science skills needed to fill these increasingly important roles in organizations. Data Science For Dummies is the pe\n",
      "   <br>\n"
     ]
    }
   ],
   "source": [
    "#calling prrettify method will make the parse tree easier to read. Only reading out the first 350 elements. \n",
    "print soup.prettify()[0:350]"
   ]
  },
  {
   "cell_type": "markdown",
   "metadata": {
    "collapsed": true
   },
   "source": [
    "### Tag objects\n"
   ]
  },
  {
   "cell_type": "markdown",
   "metadata": {
    "collapsed": true
   },
   "source": [
    "#### Working with names"
   ]
  },
  {
   "cell_type": "code",
   "execution_count": 8,
   "metadata": {},
   "outputs": [
    {
     "name": "stderr",
     "output_type": "stream",
     "text": [
      "C:\\Program Files\\Anaconda2\\lib\\site-packages\\bs4\\__init__.py:181: UserWarning: No parser was explicitly specified, so I'm using the best available HTML parser for this system (\"lxml\"). This usually isn't a problem, but if you run this code on another system, or in a different virtual environment, it may use a different parser and behave differently.\n",
      "\n",
      "The code that caused this warning is on line 174 of the file C:\\Program Files\\Anaconda2\\lib\\runpy.py. To get rid of this warning, change code that looks like this:\n",
      "\n",
      " BeautifulSoup([your markup])\n",
      "\n",
      "to this:\n",
      "\n",
      " BeautifulSoup([your markup], \"lxml\")\n",
      "\n",
      "  markup_type=markup_type))\n"
     ]
    },
    {
     "data": {
      "text/plain": [
       "bs4.element.Tag"
      ]
     },
     "execution_count": 8,
     "metadata": {},
     "output_type": "execute_result"
    }
   ],
   "source": [
    "#tag object represents html and xml elements that are in the original document. \n",
    "# they have two features, names and attributes. Attributes can be used to reference, search, and tag objects in\n",
    "# beautiful soup. \n",
    "#we'll be looking at the name attribute. \n",
    "# the beautiful soup object will be called soup. BeautifulSoup is the constructor\n",
    "# body element is what is type in as the body = description, and the product description. \n",
    "#specifying that the constructor should interpret the tag as html markup. \n",
    "soup = BeautifulSoup('<b body=\"description\"\">Product Description</b>', 'html')\n",
    "\n",
    "#this tag means that the tags name will be 'b' which will be a reference that we can use later. \n",
    "tag=soup.b\n",
    "type(tag)"
   ]
  },
  {
   "cell_type": "code",
   "execution_count": 9,
   "metadata": {},
   "outputs": [
    {
     "name": "stdout",
     "output_type": "stream",
     "text": [
      "<b body=\"description\">Product Description</b>\n"
     ]
    }
   ],
   "source": [
    "#this is our tag. \n",
    "print tag"
   ]
  },
  {
   "cell_type": "code",
   "execution_count": 10,
   "metadata": {},
   "outputs": [
    {
     "data": {
      "text/plain": [
       "'b'"
      ]
     },
     "execution_count": 10,
     "metadata": {},
     "output_type": "execute_result"
    }
   ],
   "source": [
    "#b is the name of the tag. \n",
    "tag.name"
   ]
  },
  {
   "cell_type": "code",
   "execution_count": 11,
   "metadata": {},
   "outputs": [
    {
     "data": {
      "text/plain": [
       "<bestbooks body=\"description\">Product Description</bestbooks>"
      ]
     },
     "execution_count": 11,
     "metadata": {},
     "output_type": "execute_result"
    }
   ],
   "source": [
    "#changing the name of the tag for example. \n",
    "tag.name = 'bestbooks'\n",
    "tag"
   ]
  },
  {
   "cell_type": "code",
   "execution_count": 12,
   "metadata": {},
   "outputs": [
    {
     "data": {
      "text/plain": [
       "'bestbooks'"
      ]
     },
     "execution_count": 12,
     "metadata": {},
     "output_type": "execute_result"
    }
   ],
   "source": [
    "tag.name"
   ]
  },
  {
   "cell_type": "markdown",
   "metadata": {
    "collapsed": true
   },
   "source": [
    "#### Working with attributes"
   ]
  },
  {
   "cell_type": "code",
   "execution_count": 13,
   "metadata": {},
   "outputs": [
    {
     "data": {
      "text/plain": [
       "'description'"
      ]
     },
     "execution_count": 13,
     "metadata": {},
     "output_type": "execute_result"
    }
   ],
   "source": [
    "\n",
    "tag['body']"
   ]
  },
  {
   "cell_type": "code",
   "execution_count": 14,
   "metadata": {},
   "outputs": [
    {
     "data": {
      "text/plain": [
       "{'body': 'description'}"
      ]
     },
     "execution_count": 14,
     "metadata": {},
     "output_type": "execute_result"
    }
   ],
   "source": [
    "# returning all of the tags attributes. \n",
    "tag.attrs"
   ]
  },
  {
   "cell_type": "code",
   "execution_count": 15,
   "metadata": {},
   "outputs": [
    {
     "data": {
      "text/plain": [
       "{'body': 'description', 'id': 3}"
      ]
     },
     "execution_count": 15,
     "metadata": {},
     "output_type": "execute_result"
    }
   ],
   "source": [
    "# adding another attribute to a tag. \n",
    "tag['id'] = 3\n",
    "tag.attrs"
   ]
  },
  {
   "cell_type": "code",
   "execution_count": 16,
   "metadata": {},
   "outputs": [
    {
     "data": {
      "text/plain": [
       "<bestbooks body=\"description\" id=\"3\">Product Description</bestbooks>"
      ]
     },
     "execution_count": 16,
     "metadata": {},
     "output_type": "execute_result"
    }
   ],
   "source": [
    "#printing out the tag object. \n",
    "tag"
   ]
  },
  {
   "cell_type": "code",
   "execution_count": 17,
   "metadata": {},
   "outputs": [
    {
     "data": {
      "text/plain": [
       "<bestbooks>Product Description</bestbooks>"
      ]
     },
     "execution_count": 17,
     "metadata": {},
     "output_type": "execute_result"
    }
   ],
   "source": [
    "#deleting attributes from tags. \n",
    "del tag['body']\n",
    "del tag['id']\n",
    "tag"
   ]
  },
  {
   "cell_type": "code",
   "execution_count": 18,
   "metadata": {},
   "outputs": [
    {
     "data": {
      "text/plain": [
       "{}"
      ]
     },
     "execution_count": 18,
     "metadata": {},
     "output_type": "execute_result"
    }
   ],
   "source": [
    "#we're getting back an empty dictionary because we deleted all of the attributes. \n",
    "tag.attrs"
   ]
  },
  {
   "cell_type": "markdown",
   "metadata": {},
   "source": [
    "#### Using tags to navigate a tree\n"
   ]
  },
  {
   "cell_type": "code",
   "execution_count": 19,
   "metadata": {
    "collapsed": true
   },
   "outputs": [],
   "source": [
    "#here we'll learn to navigate a parse tree. \n",
    "#first we're recreating the parse tree. \n",
    "html_doc = '''\n",
    "<html><head><title>Best Books</title></head>\n",
    "<body>\n",
    "<p class='title'><b>DATA SCIENCE FOR DUMMIES</b></p>\n",
    "\n",
    "<p class='description'>Jobs in data science abound, but few people have the data science skills needed to fill these increasingly important roles in organizations. Data Science For Dummies is the pe\n",
    "<br><br>\n",
    "Edition 1 of this book:\n",
    "        <br>\n",
    " <ul>\n",
    "  <li>Provides a background in data science fundamentals before moving on to working with relational databases and unstructured data and preparing your data for analysis</li>\n",
    "  <li>Details different data visualization techniques that can be used to showcase and summarize your data</li>\n",
    "  <li>Explains both supervised and unsupervised machine learning, including regression, model validation, and clustering techniques</li>\n",
    "  <li>Includes coverage of big data processing tools like MapReduce, Hadoop, Storm, and Spark</li>   \n",
    "  </ul>\n",
    "<br><br>\n",
    "What to do next:\n",
    "<br>\n",
    "<a href='http://www.data-mania.com/blog/books-by-lillian-pierson/' class = 'preview' id='link 1'>See a preview of the book</a>,\n",
    "<a href='http://www.data-mania.com/blog/data-science-for-dummies-answers-what-is-data-science/' class = 'preview' id='link 2'>get the free pdf download,</a> and then\n",
    "<a href='http://bit.ly/Data-Science-For-Dummies' class = 'preview' id='link 3'>buy the book!</a> \n",
    "</p>\n",
    "\n",
    "<p class='description'>...</p>\n",
    "'''\n",
    "#recreating the soup object. \n",
    "soup = BeautifulSoup(html_doc, 'html.parser')"
   ]
  },
  {
   "cell_type": "code",
   "execution_count": 20,
   "metadata": {},
   "outputs": [
    {
     "data": {
      "text/plain": [
       "<head><title>Best Books</title></head>"
      ]
     },
     "execution_count": 20,
     "metadata": {},
     "output_type": "execute_result"
    }
   ],
   "source": [
    "#this will return the head within the parse tree. \n",
    "soup.head"
   ]
  },
  {
   "cell_type": "code",
   "execution_count": 21,
   "metadata": {},
   "outputs": [
    {
     "data": {
      "text/plain": [
       "<title>Best Books</title>"
      ]
     },
     "execution_count": 21,
     "metadata": {},
     "output_type": "execute_result"
    }
   ],
   "source": [
    "# pulling the title. \n",
    "soup.title"
   ]
  },
  {
   "cell_type": "code",
   "execution_count": 22,
   "metadata": {},
   "outputs": [
    {
     "data": {
      "text/plain": [
       "<b>DATA SCIENCE FOR DUMMIES</b>"
      ]
     },
     "execution_count": 22,
     "metadata": {},
     "output_type": "execute_result"
    }
   ],
   "source": [
    "#pulling just the name of the book using the b tag. \n",
    "soup.body.b"
   ]
  },
  {
   "cell_type": "code",
   "execution_count": 23,
   "metadata": {},
   "outputs": [
    {
     "data": {
      "text/plain": [
       "<body>\\n<p class=\"title\"><b>DATA SCIENCE FOR DUMMIES</b></p>\\n<p class=\"description\">Jobs in data science abound, but few people have the data science skills needed to fill these increasingly important roles in organizations. Data Science For Dummies is the pe\\n<br><br>\\nEdition 1 of this book:\\n        <br>\\n<ul>\\n<li>Provides a background in data science fundamentals before moving on to working with relational databases and unstructured data and preparing your data for analysis</li>\\n<li>Details different data visualization techniques that can be used to showcase and summarize your data</li>\\n<li>Explains both supervised and unsupervised machine learning, including regression, model validation, and clustering techniques</li>\\n<li>Includes coverage of big data processing tools like MapReduce, Hadoop, Storm, and Spark</li>\\n</ul>\\n<br><br>\\nWhat to do next:\\n<br>\\n<a class=\"preview\" href=\"http://www.data-mania.com/blog/books-by-lillian-pierson/\" id=\"link 1\">See a preview of the book</a>,\\n<a class=\"preview\" href=\"http://www.data-mania.com/blog/data-science-for-dummies-answers-what-is-data-science/\" id=\"link 2\">get the free pdf download,</a> and then\\n<a class=\"preview\" href=\"http://bit.ly/Data-Science-For-Dummies\" id=\"link 3\">buy the book!</a>\\n</br></br></br></br></br></br></p>\\n<p class=\"description\">...</p>\\n</body>"
      ]
     },
     "execution_count": 23,
     "metadata": {},
     "output_type": "execute_result"
    }
   ],
   "source": [
    "# pulling the whole body we get everything which is a bit much. \n",
    "soup.body"
   ]
  },
  {
   "cell_type": "code",
   "execution_count": 24,
   "metadata": {},
   "outputs": [
    {
     "data": {
      "text/plain": [
       "<ul>\\n<li>Provides a background in data science fundamentals before moving on to working with relational databases and unstructured data and preparing your data for analysis</li>\\n<li>Details different data visualization techniques that can be used to showcase and summarize your data</li>\\n<li>Explains both supervised and unsupervised machine learning, including regression, model validation, and clustering techniques</li>\\n<li>Includes coverage of big data processing tools like MapReduce, Hadoop, Storm, and Spark</li>\\n</ul>"
      ]
     },
     "execution_count": 24,
     "metadata": {},
     "output_type": "execute_result"
    }
   ],
   "source": [
    "# returning only unordered lists. \n",
    "soup.ul"
   ]
  },
  {
   "cell_type": "code",
   "execution_count": 25,
   "metadata": {},
   "outputs": [
    {
     "data": {
      "text/plain": [
       "<a class=\"preview\" href=\"http://www.data-mania.com/blog/books-by-lillian-pierson/\" id=\"link 1\">See a preview of the book</a>"
      ]
     },
     "execution_count": 25,
     "metadata": {},
     "output_type": "execute_result"
    }
   ],
   "source": [
    "# retrieves the first tag within the hmtl doc that contains a weblink. \n",
    "soup.a"
   ]
  },
  {
   "cell_type": "code",
   "execution_count": null,
   "metadata": {
    "collapsed": true
   },
   "outputs": [],
   "source": []
  }
 ],
 "metadata": {
  "anaconda-cloud": {},
  "kernelspec": {
   "display_name": "Python 3",
   "language": "python",
   "name": "python3"
  },
  "language_info": {
   "codemirror_mode": {
    "name": "ipython",
    "version": 3
   },
   "file_extension": ".py",
   "mimetype": "text/x-python",
   "name": "python",
   "nbconvert_exporter": "python",
   "pygments_lexer": "ipython3",
   "version": "3.6.1"
  }
 },
 "nbformat": 4,
 "nbformat_minor": 1
}
